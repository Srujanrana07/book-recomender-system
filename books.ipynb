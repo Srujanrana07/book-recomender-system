{
 "cells": [
  {
   "cell_type": "code",
   "execution_count": 112,
   "id": "d671b0a7",
   "metadata": {},
   "outputs": [],
   "source": [
    "import pandas as pd\n",
    "import numpy as np"
   ]
  },
  {
   "cell_type": "code",
   "execution_count": 113,
   "id": "9e4718cc",
   "metadata": {},
   "outputs": [],
   "source": [
    "df = pd.read_csv('books.csv')"
   ]
  },
  {
   "cell_type": "code",
   "execution_count": 114,
   "id": "80681356",
   "metadata": {},
   "outputs": [
    {
     "data": {
      "text/plain": [
       "(1354, 23)"
      ]
     },
     "execution_count": 114,
     "metadata": {},
     "output_type": "execute_result"
    }
   ],
   "source": [
    "df.shape"
   ]
  },
  {
   "cell_type": "code",
   "execution_count": 115,
   "id": "11e9f50b",
   "metadata": {
    "scrolled": true
   },
   "outputs": [
    {
     "data": {
      "text/html": [
       "<div>\n",
       "<style scoped>\n",
       "    .dataframe tbody tr th:only-of-type {\n",
       "        vertical-align: middle;\n",
       "    }\n",
       "\n",
       "    .dataframe tbody tr th {\n",
       "        vertical-align: top;\n",
       "    }\n",
       "\n",
       "    .dataframe thead th {\n",
       "        text-align: right;\n",
       "    }\n",
       "</style>\n",
       "<table border=\"1\" class=\"dataframe\">\n",
       "  <thead>\n",
       "    <tr style=\"text-align: right;\">\n",
       "      <th></th>\n",
       "      <th>book_id</th>\n",
       "      <th>goodreads_book_id</th>\n",
       "      <th>best_book_id</th>\n",
       "      <th>work_id</th>\n",
       "      <th>books_count</th>\n",
       "      <th>isbn</th>\n",
       "      <th>isbn13</th>\n",
       "      <th>authors</th>\n",
       "      <th>original_publication_year</th>\n",
       "      <th>original_title</th>\n",
       "      <th>...</th>\n",
       "      <th>ratings_count</th>\n",
       "      <th>work_ratings_count</th>\n",
       "      <th>work_text_reviews_count</th>\n",
       "      <th>ratings_1</th>\n",
       "      <th>ratings_2</th>\n",
       "      <th>ratings_3</th>\n",
       "      <th>ratings_4</th>\n",
       "      <th>ratings_5</th>\n",
       "      <th>image_url</th>\n",
       "      <th>small_image_url</th>\n",
       "    </tr>\n",
       "  </thead>\n",
       "  <tbody>\n",
       "    <tr>\n",
       "      <th>0</th>\n",
       "      <td>1</td>\n",
       "      <td>2767052</td>\n",
       "      <td>2767052</td>\n",
       "      <td>2792775</td>\n",
       "      <td>272</td>\n",
       "      <td>439023483</td>\n",
       "      <td>9.780439e+12</td>\n",
       "      <td>Suzanne Collins</td>\n",
       "      <td>2008.0</td>\n",
       "      <td>The Hunger Games</td>\n",
       "      <td>...</td>\n",
       "      <td>4780653</td>\n",
       "      <td>4942365</td>\n",
       "      <td>155254</td>\n",
       "      <td>66715</td>\n",
       "      <td>127936</td>\n",
       "      <td>560092</td>\n",
       "      <td>1481305</td>\n",
       "      <td>2706317</td>\n",
       "      <td>https://images.gr-assets.com/books/1447303603m...</td>\n",
       "      <td>https://images.gr-assets.com/books/1447303603s...</td>\n",
       "    </tr>\n",
       "    <tr>\n",
       "      <th>1</th>\n",
       "      <td>2</td>\n",
       "      <td>3</td>\n",
       "      <td>3</td>\n",
       "      <td>4640799</td>\n",
       "      <td>491</td>\n",
       "      <td>439554934</td>\n",
       "      <td>9.780440e+12</td>\n",
       "      <td>J.K. Rowling, Mary GrandPré</td>\n",
       "      <td>1997.0</td>\n",
       "      <td>Harry Potter and the Philosopher's Stone</td>\n",
       "      <td>...</td>\n",
       "      <td>4602479</td>\n",
       "      <td>4800065</td>\n",
       "      <td>75867</td>\n",
       "      <td>75504</td>\n",
       "      <td>101676</td>\n",
       "      <td>455024</td>\n",
       "      <td>1156318</td>\n",
       "      <td>3011543</td>\n",
       "      <td>https://images.gr-assets.com/books/1474154022m...</td>\n",
       "      <td>https://images.gr-assets.com/books/1474154022s...</td>\n",
       "    </tr>\n",
       "  </tbody>\n",
       "</table>\n",
       "<p>2 rows × 23 columns</p>\n",
       "</div>"
      ],
      "text/plain": [
       "   book_id  goodreads_book_id  best_book_id  work_id  books_count       isbn  \\\n",
       "0        1            2767052       2767052  2792775          272  439023483   \n",
       "1        2                  3             3  4640799          491  439554934   \n",
       "\n",
       "         isbn13                      authors  original_publication_year  \\\n",
       "0  9.780439e+12              Suzanne Collins                     2008.0   \n",
       "1  9.780440e+12  J.K. Rowling, Mary GrandPré                     1997.0   \n",
       "\n",
       "                             original_title  ... ratings_count  \\\n",
       "0                          The Hunger Games  ...       4780653   \n",
       "1  Harry Potter and the Philosopher's Stone  ...       4602479   \n",
       "\n",
       "  work_ratings_count  work_text_reviews_count  ratings_1  ratings_2  \\\n",
       "0            4942365                   155254      66715     127936   \n",
       "1            4800065                    75867      75504     101676   \n",
       "\n",
       "   ratings_3  ratings_4  ratings_5  \\\n",
       "0     560092    1481305    2706317   \n",
       "1     455024    1156318    3011543   \n",
       "\n",
       "                                           image_url  \\\n",
       "0  https://images.gr-assets.com/books/1447303603m...   \n",
       "1  https://images.gr-assets.com/books/1474154022m...   \n",
       "\n",
       "                                     small_image_url  \n",
       "0  https://images.gr-assets.com/books/1447303603s...  \n",
       "1  https://images.gr-assets.com/books/1474154022s...  \n",
       "\n",
       "[2 rows x 23 columns]"
      ]
     },
     "execution_count": 115,
     "metadata": {},
     "output_type": "execute_result"
    }
   ],
   "source": [
    "df.head(2)"
   ]
  },
  {
   "cell_type": "code",
   "execution_count": 116,
   "id": "a58dca43",
   "metadata": {},
   "outputs": [],
   "source": [
    "new_df = df[['books_count','authors', 'original_publication_year', 'original_title','title', 'language_code', 'image_url']]\n"
   ]
  },
  {
   "cell_type": "code",
   "execution_count": 117,
   "id": "0a18c12a",
   "metadata": {},
   "outputs": [
    {
     "data": {
      "text/html": [
       "<div>\n",
       "<style scoped>\n",
       "    .dataframe tbody tr th:only-of-type {\n",
       "        vertical-align: middle;\n",
       "    }\n",
       "\n",
       "    .dataframe tbody tr th {\n",
       "        vertical-align: top;\n",
       "    }\n",
       "\n",
       "    .dataframe thead th {\n",
       "        text-align: right;\n",
       "    }\n",
       "</style>\n",
       "<table border=\"1\" class=\"dataframe\">\n",
       "  <thead>\n",
       "    <tr style=\"text-align: right;\">\n",
       "      <th></th>\n",
       "      <th>books_count</th>\n",
       "      <th>authors</th>\n",
       "      <th>original_publication_year</th>\n",
       "      <th>original_title</th>\n",
       "      <th>title</th>\n",
       "      <th>language_code</th>\n",
       "      <th>image_url</th>\n",
       "    </tr>\n",
       "  </thead>\n",
       "  <tbody>\n",
       "    <tr>\n",
       "      <th>0</th>\n",
       "      <td>272</td>\n",
       "      <td>Suzanne Collins</td>\n",
       "      <td>2008.0</td>\n",
       "      <td>The Hunger Games</td>\n",
       "      <td>The Hunger Games (The Hunger Games, #1)</td>\n",
       "      <td>eng</td>\n",
       "      <td>https://images.gr-assets.com/books/1447303603m...</td>\n",
       "    </tr>\n",
       "    <tr>\n",
       "      <th>1</th>\n",
       "      <td>491</td>\n",
       "      <td>J.K. Rowling, Mary GrandPré</td>\n",
       "      <td>1997.0</td>\n",
       "      <td>Harry Potter and the Philosopher's Stone</td>\n",
       "      <td>Harry Potter and the Sorcerer's Stone (Harry P...</td>\n",
       "      <td>eng</td>\n",
       "      <td>https://images.gr-assets.com/books/1474154022m...</td>\n",
       "    </tr>\n",
       "  </tbody>\n",
       "</table>\n",
       "</div>"
      ],
      "text/plain": [
       "   books_count                      authors  original_publication_year  \\\n",
       "0          272              Suzanne Collins                     2008.0   \n",
       "1          491  J.K. Rowling, Mary GrandPré                     1997.0   \n",
       "\n",
       "                             original_title  \\\n",
       "0                          The Hunger Games   \n",
       "1  Harry Potter and the Philosopher's Stone   \n",
       "\n",
       "                                               title language_code  \\\n",
       "0            The Hunger Games (The Hunger Games, #1)           eng   \n",
       "1  Harry Potter and the Sorcerer's Stone (Harry P...           eng   \n",
       "\n",
       "                                           image_url  \n",
       "0  https://images.gr-assets.com/books/1447303603m...  \n",
       "1  https://images.gr-assets.com/books/1474154022m...  "
      ]
     },
     "execution_count": 117,
     "metadata": {},
     "output_type": "execute_result"
    }
   ],
   "source": [
    "new_df.head(2)"
   ]
  },
  {
   "cell_type": "code",
   "execution_count": 118,
   "id": "8a8a7606",
   "metadata": {},
   "outputs": [],
   "source": [
    "#new_df['original_title'] = new_df['original_title'].str.replace(' ', '')"
   ]
  },
  {
   "cell_type": "code",
   "execution_count": 119,
   "id": "2f6955ef",
   "metadata": {},
   "outputs": [],
   "source": [
    "from sklearn.feature_extraction.text import CountVectorizer\n",
    "cv =  CountVectorizer(max_features=1000 ,stop_words = 'english')"
   ]
  },
  {
   "cell_type": "code",
   "execution_count": 120,
   "id": "0685d8eb",
   "metadata": {},
   "outputs": [
    {
     "name": "stderr",
     "output_type": "stream",
     "text": [
      "C:\\Users\\sruja\\AppData\\Local\\Temp\\ipykernel_15416\\2610937683.py:1: SettingWithCopyWarning: \n",
      "A value is trying to be set on a copy of a slice from a DataFrame\n",
      "\n",
      "See the caveats in the documentation: https://pandas.pydata.org/pandas-docs/stable/user_guide/indexing.html#returning-a-view-versus-a-copy\n",
      "  new_df['original_title'].fillna('', inplace=True)\n"
     ]
    }
   ],
   "source": [
    "new_df['original_title'].fillna('', inplace=True)\n",
    "vector = cv.fit_transform(new_df['title']).toarray()\n"
   ]
  },
  {
   "cell_type": "code",
   "execution_count": 121,
   "id": "14bf4e7d",
   "metadata": {},
   "outputs": [
    {
     "data": {
      "text/plain": [
       "array(['10', '100', '11', '12', '13', '14', '15', '1793', '1963', '25',\n",
       "       '30', '32', '35', '39', '5th', '64', '7s', 'abandon', 'abarat',\n",
       "       'abhorsen', 'absolutely', 'abundance', 'academy', 'acceptable',\n",
       "       'aching', 'adoration', 'adrian', 'adventure', 'afterworlds',\n",
       "       'airhead', 'al', 'alaska', 'alcatraz', 'alchemyst', 'alex',\n",
       "       'allegiant', 'american', 'angel', 'angelfire', 'angels', 'anna',\n",
       "       'anne', 'apprentice', 'approves', 'aristotle', 'artemis',\n",
       "       'article', 'ascendance', 'ashes', 'ashfall', 'ask', 'assassin',\n",
       "       'assignments', 'assistant', 'asylum', 'ate', 'athena', 'atlantis',\n",
       "       'attack', 'attolia', 'audrina', 'authors', 'awakening', 'bad',\n",
       "       'bane', 'bar', 'bartimaeus', 'battle', 'bayern', 'bear', 'beastly',\n",
       "       'beautiful', 'beauty', 'beka', 'benedict', 'betrayed', 'beyonders',\n",
       "       'big', 'birthmarked', 'bites', 'black', 'blood', 'bloodlines',\n",
       "       'bloods', 'bloody', 'blue', 'bodies', 'body', 'bone', 'bones',\n",
       "       'book', 'books', 'boone', 'born', 'botts', 'bound', 'bovine',\n",
       "       'bow', 'box', 'boxcar', 'boxed', 'boxset', 'boy', 'boyfriend',\n",
       "       'boys', 'brain', 'bras', 'brave', 'breadwinner', 'breaking',\n",
       "       'breath', 'breathe', 'bree', 'brian', 'briar', 'bridge', 'bright',\n",
       "       'brink', 'brisingr', 'broke', 'broken', 'bronze', 'brookfield',\n",
       "       'brother', 'brotherband', 'bruiser', 'bud', 'buddy', 'bug',\n",
       "       'burdick', 'burn', 'burned', 'burning', 'burns', 'butt', 'byrnes',\n",
       "       'cabret', 'cahills', 'calamity', 'called', 'calling', 'calls',\n",
       "       'calpurnia', 'camel', 'cameron', 'candy', 'capone', 'captivate',\n",
       "       'captive', 'captor', 'capture', 'caraval', 'cards', 'carnival',\n",
       "       'carnivorous', 'carpe', 'carrie', 'carry', 'carton', 'caspian',\n",
       "       'casteel', 'caster', 'castle', 'cat', 'catalyst', 'catastrophic',\n",
       "       'catching', 'catherine', 'cauldron', 'cay', 'cell', 'ceramic',\n",
       "       'certain', 'chain', 'chains', 'chair', 'chamber', 'champion',\n",
       "       'chance', 'chaos', 'chapter', 'charlie', 'charlotte', 'chase',\n",
       "       'chasing', 'cheese', 'chemical', 'chemistry', 'cherub', 'chicago',\n",
       "       'child', 'children', 'chinese', 'chocolate', 'choice',\n",
       "       'chopsticks', 'chosen', 'chronicles', 'chronos', 'cinder',\n",
       "       'circle', 'circumstances', 'cirque', 'city', 'clariel', 'class',\n",
       "       'classic', 'claw', 'cleary', 'climbs', 'clique', 'clockwork',\n",
       "       'clonmel', 'club', 'clues', 'code', 'collection', 'companion',\n",
       "       'complete', 'compound', 'confessions', 'cooper', 'cousins',\n",
       "       'crank', 'crewel', 'crime', 'cross', 'crosses', 'crown', 'crowns',\n",
       "       'cruel', 'curse', 'cycle', 'daddy', 'dairy', 'damar', 'dance',\n",
       "       'dancing', 'dangerous', 'daniel', 'dante', 'dark', 'darkest',\n",
       "       'darkness', 'darling', 'dates', 'daughter', 'dawn', 'day', 'days',\n",
       "       'dead', 'death', 'deception', 'declaration', 'defy', 'delirium',\n",
       "       'demon', 'destined', 'destiny', 'devices', 'diaries', 'diary',\n",
       "       'die', 'discover', 'discworld', 'divergent', 'divine', 'diviners',\n",
       "       'doesn', 'dollanganger', 'dolphins', 'don', 'door', 'dorothy',\n",
       "       'doyle', 'dragon', 'dragoneye', 'dragons', 'dream', 'dreams',\n",
       "       'drums', 'du', 'dumplin', 'dust', 'dyer', 'eagle', 'earth',\n",
       "       'earthsea', 'eclipse', 'elites', 'ella', 'ember', 'emily',\n",
       "       'emperor', 'empress', 'enchanted', 'end', 'ender', 'endless',\n",
       "       'enemy', 'envelope', 'eon', 'epic', 'eragon', 'eternity', 'eve',\n",
       "       'events', 'everlasting', 'everneath', 'evernight', 'evil', 'eye',\n",
       "       'fablehaven', 'fade', 'faerie', 'fair', 'fairest', 'fairy', 'fall',\n",
       "       'fallen', 'falls', 'far', 'fat', 'fate', 'fever', 'fey', 'files',\n",
       "       'finder', 'finishing', 'firelight', 'flamel', 'flight',\n",
       "       'forbidden', 'forest', 'forever', 'forgotten', 'fowl', 'fox',\n",
       "       'freak', 'free', 'french', 'friend', 'friends', 'frog', 'frost',\n",
       "       'fudge', 'fury', 'gables', 'gallagher', 'game', 'games', 'garden',\n",
       "       'gate', 'gatekeepers', 'gathering', 'gemma', 'georgia', 'german',\n",
       "       'ghost', 'girl', 'girls', 'giver', 'glass', 'god', 'goddess',\n",
       "       'going', 'golden', 'gone', 'good', 'goodbye', 'gossip',\n",
       "       'graceling', 'grade', 'gray', 'grayson', 'great', 'green',\n",
       "       'gregor', 'grimm', 'guard', 'guide', 'hades', 'half', 'hall',\n",
       "       'halo', 'hands', 'happens', 'happily', 'happy', 'harper', 'harry',\n",
       "       'hate', 'haunted', 'heap', 'heart', 'heartless', 'hearts',\n",
       "       'heaven', 'heir', 'heist', 'hero', 'heroes', 'hex', 'hidden',\n",
       "       'high', 'history', 'holding', 'holes', 'holiday', 'hollow', 'home',\n",
       "       'hood', 'hope', 'horse', 'host', 'hour', 'hourglass', 'house',\n",
       "       'howl', 'hunger', 'hush', 'ice', 'illuminae', 'illustrated',\n",
       "       'immortal', 'immortals', 'impulse', 'incarceron', 'infernal',\n",
       "       'infinite', 'ingleside', 'inheritance', 'inkdeath', 'inkheart',\n",
       "       'inkspell', 'inkworld', 'instruments', 'intertwined', 'interworld',\n",
       "       'iron', 'island', 'jack', 'jackson', 'jasper', 'jenna', 'jessica',\n",
       "       'joey', 'journey', 'julie', 'just', 'kane', 'keeping', 'key',\n",
       "       'keys', 'kill', 'killing', 'king', 'kingdom', 'kira', 'kiss',\n",
       "       'kissed', 'kisses', 'kissing', 'knife', 'knight', 'know', 'lady',\n",
       "       'lands', 'leaving', 'legacies', 'legacy', 'legend', 'legs',\n",
       "       'leven', 'leviathan', 'liars', 'library', 'lies', 'life', 'light',\n",
       "       'like', 'lily', 'limberlost', 'lines', 'lion', 'lioness', 'list',\n",
       "       'little', 'live', 'living', 'll', 'lonely', 'long', 'looking',\n",
       "       'looks', 'lord', 'lorien', 'loser', 'lost', 'love', 'loved',\n",
       "       'lovely', 'luke', 'lumatere', 'lunar', 'luxe', 'lying', 'madman',\n",
       "       'magic', 'magician', 'magonia', 'mango', 'mara', 'marigold',\n",
       "       'matched', 'materials', 'mates', 'maximum', 'maze', 'mediator',\n",
       "       'men', 'mercy', 'messenger', 'michael', 'midnight', 'midnighters',\n",
       "       'mighty', 'mind', 'minds', 'miss', 'modern', 'mole', 'molly',\n",
       "       'monster', 'monsters', 'monstrumologist', 'monument', 'moon',\n",
       "       'morganville', 'mortal', 'mother', 'mountain', 'movie', 'moving',\n",
       "       'mr', 'mysterious', 'narnia', 'naturals', 'need', 'nevermore',\n",
       "       'new', 'nicholas', 'nick', 'nicolson', 'niebla', 'night',\n",
       "       'nightmare', 'nightmares', 'nightshade', 'ninth', 'north',\n",
       "       'noughts', 'number', 'numbers', 'official', 'oliver', 'olympians',\n",
       "       'olympus', 'online', 'opens', 'order', 'palace', 'panic', 'pants',\n",
       "       'paper', 'paradise', 'paranormalcy', 'partials', 'passenger',\n",
       "       'pathfinder', 'peak', 'peculiar', 'peeps', 'pellinor', 'pendragon',\n",
       "       'percy', 'peregrine', 'perfect', 'peter', 'pie', 'pigman', 'pigza',\n",
       "       'pivot', 'places', 'plague', 'pleasant', 'pledge', 'point',\n",
       "       'potter', 'power', 'powers', 'pretty', 'prince', 'princess',\n",
       "       'princesses', 'prisoner', 'private', 'program', 'prom', 'promise',\n",
       "       'promised', 'prophecy', 'prophet', 'protector', 'prydain',\n",
       "       'ptolemy', 'pure', 'pyramid', 'queen', 'queens', 'quest', 'queste',\n",
       "       'quidditch', 'quillan', 'quintet', 'races', 'radiant', 'rainbow',\n",
       "       'ralph', 'rampant', 'ranger', 'ransom', 'rapture', 'raven',\n",
       "       'rayne', 'razorland', 'reach', 'reached', 'reaction', 'read',\n",
       "       'ready', 'real', 'reality', 'realm', 'realms', 'reasons', 'rebel',\n",
       "       'rebellion', 'reboot', 'reborn', 'reckoners', 'reckoning',\n",
       "       'recruit', 'red', 'redd', 'redemption', 'redwall', 'reforged',\n",
       "       'remnant', 'replacement', 'requiem', 'rest', 'retribution',\n",
       "       'return', 'reunion', 'revelations', 'revenants', 'revenge',\n",
       "       'revolution', 'riddle', 'ride', 'rider', 'rides', 'ridge',\n",
       "       'riding', 'rilla', 'ring', 'ripper', 'rise', 'rising',\n",
       "       'rithmatist', 'river', 'rivers', 'road', 'rock', 'rocky', 'roger',\n",
       "       'roll', 'romances', 'rose', 'rot', 'round', 'row', 'royal', 'ruby',\n",
       "       'ruin', 'ruins', 'rules', 'rumble', 'rumors', 'runaway',\n",
       "       'runaways', 'rundoon', 'runner', 'running', 'rush', 'ruthless',\n",
       "       'sabriel', 'sacrifice', 'saga', 'saint', 'salamandastron', 'sally',\n",
       "       'salt', 'sam', 'samarkand', 'sanctuary', 'sandry', 'sands',\n",
       "       'sapiens', 'sapphique', 'sarah', 'saturday', 'savage', 'save',\n",
       "       'saving', 'savvy', 'say', 'scarlet', 'scars', 'scat', 'scene',\n",
       "       'school', 'schoolbooks', 'schooled', 'scorch', 'scorpia',\n",
       "       'scorpio', 'scorpion', 'scoundrels', 'screamers', 'screaming',\n",
       "       'sea', 'searching', 'second', 'secret', 'secrets', 'security',\n",
       "       'seeds', 'seeing', 'seen', 'selection', 'separate', 'septimus',\n",
       "       'sequence', 'seraphina', 'series', 'serpent', 'set', 'seven',\n",
       "       'sex', 'shades', 'shadow', 'shadowland', 'shadows', 'shaped',\n",
       "       'shard', 'shatter', 'shatterglass', 'sheet', 'sheila', 'shelter',\n",
       "       'shirts', 'shoes', 'shop', 'shore', 'short', 'shouldn', 'shrink',\n",
       "       'siege', 'sight', 'sign', 'silence', 'silver', 'silverfin',\n",
       "       'simon', 'singer', 'single', 'sir', 'siren', 'sister',\n",
       "       'sisterhood', 'sisters', 'skandia', 'skeleton', 'skellig', 'skin',\n",
       "       'skinjacker', 'skulduggery', 'sky', 'slam', 'slant', 'slays',\n",
       "       'sleeper', 'slippers', 'slippery', 'slope', 'sloppy', 'smack',\n",
       "       'small', 'smaragdgrün', 'smoke', 'snakehead', 'snatchers',\n",
       "       'snicket', 'snogging', 'snow', 'society', 'sold', 'soldier',\n",
       "       'soldiers', 'solomon', 'son', 'song', 'sons', 'sorcerer',\n",
       "       'sorceress', 'sorrows', 'soul', 'soulmates', 'souls', 'sounder',\n",
       "       'special', 'spell', 'spindle', 'spirit', 'splintered', 'spy',\n",
       "       'stallion', 'star', 'starcatchers', 'starcrossed', 'stargirl',\n",
       "       'stars', 'starters', 'stay', 'stefan', 'steps', 'stolen', 'stone',\n",
       "       'stories', 'storm', 'story', 'strange', 'street', 'struggle',\n",
       "       'sugar', 'summer', 'sun', 'survivors', 'sweet', 'sword', 'syrena',\n",
       "       'tale', 'tales', 'talon', 'tate', 'teardrop', 'tears', 'teeth',\n",
       "       'tell', 'tennis', 'test', 'testing', 'theodore', 'thief',\n",
       "       'thieves', 'things', 'thirst', 'thorns', 'thousand', 'throne',\n",
       "       'thumps', 'tiffany', 'tiger', 'time', 'tod', 'tomorrow', 'touch',\n",
       "       'touching', 'traitor', 'tranquility', 'transfer', 'traveling',\n",
       "       'treader', 'treasury', 'tree', 'tremain', 'trials', 'tricks',\n",
       "       'trickster', 'trilogie', 'trilogy', 'tris', 'triton', 'triumph',\n",
       "       'trolls', 'true', 'truth', 'trylle', 'ttyl', 'tuck', 'tuesday',\n",
       "       'tunnels', 'turned', 'twilight', 'twisted', 'uglies', 'ultimate',\n",
       "       'underland', 'underworld', 'unearthly', 'unfortunate', 'universe',\n",
       "       'unraveling', 'unwind', 'vampire', 'vampires', 'variant', 've',\n",
       "       'verity', 'vermeer', 'vey', 'virals', 'visions', 'vladimir', 'vol',\n",
       "       'voyage', 'vs', 'waiting', 'wake', 'walk', 'walking', 'wallflower',\n",
       "       'want', 'war', 'wardrobe', 'wardstone', 'warm', 'warning',\n",
       "       'warrior', 'wars', 'water', 'wave', 'way', 'wednesday',\n",
       "       'westfalin', 'wicked', 'wild', 'wildwood', 'wind', 'windsnap',\n",
       "       'winger', 'wings', 'winner', 'winter', 'wintergirls',\n",
       "       'wintersmith', 'witch', 'witchcraft', 'wither', 'wives', 'wizard',\n",
       "       'wizardry', 'wizards', 'wolf', 'wolves', 'woman', 'women',\n",
       "       'wonder', 'wonderful', 'wonderstruck', 'wondrous', 'woods', 'word',\n",
       "       'workers', 'world', 'worlds', 'worst', 'worth', 'wrath', 'wreck',\n",
       "       'wrinkle', 'year', 'years', 'yesterday', 'yesterdays', 'yonder',\n",
       "       'yonwood', 'young'], dtype=object)"
      ]
     },
     "execution_count": 121,
     "metadata": {},
     "output_type": "execute_result"
    }
   ],
   "source": [
    "cv.get_feature_names_out()"
   ]
  },
  {
   "cell_type": "code",
   "execution_count": 122,
   "id": "9823dccf",
   "metadata": {},
   "outputs": [],
   "source": [
    "from sklearn.metrics.pairwise import cosine_similarity"
   ]
  },
  {
   "cell_type": "code",
   "execution_count": 123,
   "id": "b1d7fd23",
   "metadata": {},
   "outputs": [],
   "source": [
    "similarity = cosine_similarity(vector)"
   ]
  },
  {
   "cell_type": "code",
   "execution_count": 124,
   "id": "5bfb055b",
   "metadata": {},
   "outputs": [
    {
     "data": {
      "text/plain": [
       "[(10, 0.8944271909999159),\n",
       " (11, 0.8944271909999159),\n",
       " (6, 0.8432740427115678),\n",
       " (8, 0.8432740427115678),\n",
       " (96, 0.8432740427115678)]"
      ]
     },
     "execution_count": 124,
     "metadata": {},
     "output_type": "execute_result"
    }
   ],
   "source": [
    "sorted(list(enumerate(similarity[1])),reverse = True,key = lambda x:x[1])[1:6]"
   ]
  },
  {
   "cell_type": "code",
   "execution_count": 130,
   "id": "fe0a113e",
   "metadata": {},
   "outputs": [],
   "source": [
    "def recomend(book):\n",
    "    book_index = new_df[new_df['original_title'] == book].index[0]\n",
    "    distances = similarity[book_index]\n",
    "    book_list = sorted(list(enumerate(distances)),reverse = True,key = lambda x:x[1])[1:6]\n",
    "    \n",
    "    for i in book_list:\n",
    "        print(new_df.iloc[i[0]]['original_title'])\n",
    "    "
   ]
  },
  {
   "cell_type": "code",
   "execution_count": 132,
   "id": "2b8ec58c",
   "metadata": {},
   "outputs": [
    {
     "name": "stdout",
     "output_type": "stream",
     "text": [
      "Harry Potter and the Goblet of Fire\n",
      "Harry Potter and the Deathly Hallows\n",
      "Harry Potter and the Prisoner of Azkaban\n",
      "Harry Potter and the Order of the Phoenix\n",
      "Complete Harry Potter Boxed Set\n"
     ]
    }
   ],
   "source": [
    "recomend(\"Harry Potter and the Philosopher's Stone\")\n"
   ]
  },
  {
   "cell_type": "code",
   "execution_count": 134,
   "id": "07de1071",
   "metadata": {},
   "outputs": [],
   "source": [
    "import pickle"
   ]
  },
  {
   "cell_type": "code",
   "execution_count": 135,
   "id": "d29b6ddc",
   "metadata": {},
   "outputs": [],
   "source": [
    "pickle.dump(new_df.to_dict(),open('books_dict.pkl','wb'))"
   ]
  },
  {
   "cell_type": "code",
   "execution_count": 136,
   "id": "1a757943",
   "metadata": {},
   "outputs": [],
   "source": [
    "pickle.dump(similarity,open('similarity.pkl','wb'))"
   ]
  },
  {
   "cell_type": "code",
   "execution_count": null,
   "id": "f2aaa3c6",
   "metadata": {},
   "outputs": [],
   "source": []
  }
 ],
 "metadata": {
  "kernelspec": {
   "display_name": "Python 3 (ipykernel)",
   "language": "python",
   "name": "python3"
  },
  "language_info": {
   "codemirror_mode": {
    "name": "ipython",
    "version": 3
   },
   "file_extension": ".py",
   "mimetype": "text/x-python",
   "name": "python",
   "nbconvert_exporter": "python",
   "pygments_lexer": "ipython3",
   "version": "3.11.4"
  }
 },
 "nbformat": 4,
 "nbformat_minor": 5
}
